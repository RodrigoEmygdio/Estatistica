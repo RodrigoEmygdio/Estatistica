{
 "cells": [
  {
   "cell_type": "code",
   "execution_count": 1,
   "metadata": {
    "colab": {},
    "colab_type": "code",
    "id": "Au8EhTtpqxPm"
   },
   "outputs": [],
   "source": [
    "import pandas as pd\n",
    "import numpy as np\n",
    "import matplotlib.pyplot as plt\n",
    "from models.tabelas import TabelaFrequncia\n",
    "def print_info_tb_freq(tb:TabelaFrequncia):\n",
    "    print(f\"Numero de classes: {tb.numero_classes}\")\n",
    "    print(f\"Intervalo das classes: {tb.intervalo_classes}\")\n",
    "    print(f\"Amplitude: {tb.At}\")\n",
    "    print(f\"Excesso: {tb.excesso}\")\n",
    "    print(f'Primeiro elemento: {tb.colecao.min()}')\n",
    "    print(f'Ultimo elemento: {tb.colecao.max()}')"
   ]
  },
  {
   "cell_type": "markdown",
   "metadata": {},
   "source": [
    "### Criando Tabela de  frequêcia atraves de um listagem de idades"
   ]
  },
  {
   "cell_type": "code",
   "execution_count": 20,
   "metadata": {
    "colab": {
     "base_uri": "https://localhost:8080/",
     "height": 102
    },
    "colab_type": "code",
    "id": "hAv1XRb4rEGp",
    "outputId": "148093d3-a9f6-45dd-e27e-9430df236d25"
   },
   "outputs": [
    {
     "name": "stdout",
     "output_type": "stream",
     "text": [
      "Numero de classes: 8\n",
      "Intervalo das classes: 9\n",
      "Amplitude: 67\n",
      "Excesso: 5\n",
      "Primeiro elemento: 39\n",
      "Ultimo elemento: 106\n"
     ]
    },
    {
     "data": {
      "text/html": [
       "<div>\n",
       "<style scoped>\n",
       "    .dataframe tbody tr th:only-of-type {\n",
       "        vertical-align: middle;\n",
       "    }\n",
       "\n",
       "    .dataframe tbody tr th {\n",
       "        vertical-align: top;\n",
       "    }\n",
       "\n",
       "    .dataframe thead th {\n",
       "        text-align: right;\n",
       "    }\n",
       "</style>\n",
       "<table border=\"1\" class=\"dataframe\">\n",
       "  <thead>\n",
       "    <tr style=\"text-align: right;\">\n",
       "      <th></th>\n",
       "      <th>Frequencia</th>\n",
       "      <th>Frequencia Relatativa</th>\n",
       "    </tr>\n",
       "  </thead>\n",
       "  <tbody>\n",
       "    <tr>\n",
       "      <th>(37, 46]</th>\n",
       "      <td>3</td>\n",
       "      <td>5.00</td>\n",
       "    </tr>\n",
       "    <tr>\n",
       "      <th>(46, 55]</th>\n",
       "      <td>4</td>\n",
       "      <td>6.67</td>\n",
       "    </tr>\n",
       "    <tr>\n",
       "      <th>(55, 64]</th>\n",
       "      <td>8</td>\n",
       "      <td>13.33</td>\n",
       "    </tr>\n",
       "    <tr>\n",
       "      <th>(64, 73]</th>\n",
       "      <td>11</td>\n",
       "      <td>18.33</td>\n",
       "    </tr>\n",
       "    <tr>\n",
       "      <th>(73, 82]</th>\n",
       "      <td>19</td>\n",
       "      <td>31.67</td>\n",
       "    </tr>\n",
       "    <tr>\n",
       "      <th>(82, 91]</th>\n",
       "      <td>10</td>\n",
       "      <td>16.67</td>\n",
       "    </tr>\n",
       "    <tr>\n",
       "      <th>(91, 100]</th>\n",
       "      <td>4</td>\n",
       "      <td>6.67</td>\n",
       "    </tr>\n",
       "    <tr>\n",
       "      <th>(100, 109]</th>\n",
       "      <td>1</td>\n",
       "      <td>1.67</td>\n",
       "    </tr>\n",
       "  </tbody>\n",
       "</table>\n",
       "</div>"
      ],
      "text/plain": [
       "            Frequencia  Frequencia Relatativa\n",
       "(37, 46]             3                   5.00\n",
       "(46, 55]             4                   6.67\n",
       "(55, 64]             8                  13.33\n",
       "(64, 73]            11                  18.33\n",
       "(73, 82]            19                  31.67\n",
       "(82, 91]            10                  16.67\n",
       "(91, 100]            4                   6.67\n",
       "(100, 109]           1                   1.67"
      ]
     },
     "execution_count": 20,
     "metadata": {},
     "output_type": "execute_result"
    },
    {
     "data": {
      "image/png": "[encoded data removed]",
      "text/plain": [
       "<Figure size 432x288 with 1 Axes>"
      ]
     },
     "metadata": {
      "needs_background": "light"
     },
     "output_type": "display_data"
    }
   ],
   "source": [
    "sequencia_numerica = \"\"\"39 43 45 50 50 53 54 55 58 59 61 61 63 63 63 64 66 68 68 68 68 68 70 71 72 72 73 73 73 74 75 75 75 75 75 76 77 77 78 78 78 79 80 81 81 82 82 82 83 84 84 84 86 88 90 91 95 96 99 106\"\"\".split(' ')\n",
    "tb_seq_num = TabelaFrequncia(np.array(sequencia_numerica,dtype=np.int))\n",
    "print_info_tb_freq(tb_seq_num)\n",
    "tb_seq_num.cria_frequencia_relativa()\n",
    "\n",
    "fig, axes = plt.subplots()\n",
    "x = np.sort(np.concatenate((tb_seq_num.dataFrame.index.values.left.values,tb_seq_num.dataFrame.index.values.right.values -1)))\n",
    "y = []\n",
    "for item in x:\n",
    "    for index in  tb_seq_num.dataFrame.index:\n",
    "        if(item >= index.left and item < index.right):\n",
    "                 y.append(tb_seq_num.dataFrame[tb_seq_num.frequenciaCampo][index])\n",
    "\n",
    "axes.plot(x,y,'-')\n",
    "\n",
    "tb_seq_num.dataFrame"
   ]
  },
  {
   "cell_type": "code",
   "execution_count": 14,
   "metadata": {},
   "outputs": [
    {
     "data": {
      "text/plain": [
       "count     60.000000\n",
       "mean      72.616667\n",
       "std       13.712659\n",
       "min       39.000000\n",
       "25%       63.750000\n",
       "50%       74.500000\n",
       "75%       81.250000\n",
       "max      106.000000\n",
       "dtype: float64"
      ]
     },
     "execution_count": 14,
     "metadata": {},
     "output_type": "execute_result"
    }
   ],
   "source": [
    "pd.Series(tb_seq_num.colecao).describe()"
   ]
  },
  {
   "cell_type": "code",
   "execution_count": 21,
   "metadata": {},
   "outputs": [
    {
     "data": {
      "text/plain": [
       "0    68\n",
       "1    75\n",
       "dtype: int32"
      ]
     },
     "execution_count": 21,
     "metadata": {},
     "output_type": "execute_result"
    }
   ],
   "source": [
    "pd.Series(tb_seq_num.colecao).mode()\n"
   ]
  },
  {
   "cell_type": "markdown",
   "metadata": {},
   "source": [
    "### Criando Tabela de  frequêcia atraves de lista de gasto de energia"
   ]
  },
  {
   "cell_type": "code",
   "execution_count": null,
   "metadata": {
    "colab": {
     "base_uri": "https://localhost:8080/",
     "height": 34
    },
    "colab_type": "code",
    "id": "Nm6_QVJcrocp",
    "outputId": "248fe149-87b3-4f31-a5ea-b3fe62e4e4c7",
    "pycharm": {
     "name": "#%%\n"
    }
   },
   "outputs": [],
   "source": [
    "consumo_energia = \"\"\"60 62 65 65 66 68 70 70 72 73 74 74 74 75 76 77 77 77 80 80 81 81 81 81 83 85 86 86 86 87 87 88 89 89 89 89 89 90 90 91 91 91 91 91 93 93 95 96 96 98 98 100 101 101 102 103 103 105 107 108 110 111 113\"\"\".split(\" \")\n",
    "tb_consumo_energia = TabelaFrequncia(np.array(consumo_energia,dtype=np.int))\n",
    "print_info_tb_freq(tb_consumo_energia)\n",
    "print(tb_consumo_energia.colecao[tb_consumo_energia.colecao <68])\n",
    "tb_consumo_energia.cria_tabelaFrequencia()\n",
    "tb_consumo_energia.cria_frequancia_acumulada()\n",
    "tb_consumo_energia.cria_frequencia_relativa()"
   ]
  },
  {
   "cell_type": "code",
   "execution_count": null,
   "metadata": {
    "pycharm": {
     "name": "#%%\n"
    }
   },
   "outputs": [],
   "source": [
    "\n",
    "nivel_ruido = \"\"\"53 55 73 75 80 81 93 95 118 120 58 60 76 76 81 83 95 97 121 121 60 62 76 78 83 84 98 98 124 126 65 66 68 68 68 69 70 70 72 73 78 78 78 79 80 80 80 80 80 80 84 84 85 85 86 86 86 88 90 93 100 106 106 107 109 109 112 115 116 116\"\"\".split(\" \")\n",
    "tb_nivel_ruido = TabelaFrequncia(np.array(nivel_ruido,dtype=np.int))\n",
    "print_info_tb_freq(tb_nivel_ruido)\n",
    "print(tb_nivel_ruido.colecao[tb_nivel_ruido.colecao < 60])\n",
    "tb_nivel_ruido.cria_tabelaFrequencia()"
   ]
  },
  {
   "cell_type": "code",
   "execution_count": null,
   "metadata": {
    "pycharm": {
     "name": "#%%\n"
    }
   },
   "outputs": [],
   "source": [
    "pecas_com_defeitos = \"\"\"40 44 47 48 50 53 53 56 58 59 61 61 63 63 63 64 64 65 66 67 68 69 69 71 71 71 71 71 72 72 73 73 74 74 74 74 74 75 75 75 76 77 77 77 77 77 78 78 80 81 82 86 88 89 91 95 99 102 107 112\"\"\".split(\" \")\n",
    "tb_pecas_defeito = TabelaFrequncia(np.array(pecas_com_defeitos,dtype=np.int))\n",
    "print_info_tb_freq(tb_pecas_defeito)\n",
    "tb_pecas_defeito.cria_tabelaFrequencia()"
   ]
  },
  {
   "cell_type": "code",
   "execution_count": 5,
   "metadata": {
    "pycharm": {
     "name": "#%%\n"
    }
   },
   "outputs": [
    {
     "data": {
      "text/html": [
       "<div>\n",
       "<style scoped>\n",
       "    .dataframe tbody tr th:only-of-type {\n",
       "        vertical-align: middle;\n",
       "    }\n",
       "\n",
       "    .dataframe tbody tr th {\n",
       "        vertical-align: top;\n",
       "    }\n",
       "\n",
       "    .dataframe thead th {\n",
       "        text-align: right;\n",
       "    }\n",
       "</style>\n",
       "<table border=\"1\" class=\"dataframe\">\n",
       "  <thead>\n",
       "    <tr style=\"text-align: right;\">\n",
       "      <th></th>\n",
       "      <th>Frequencia</th>\n",
       "      <th>Frequencia Acumulada</th>\n",
       "      <th>Frequencia Relatativa</th>\n",
       "    </tr>\n",
       "  </thead>\n",
       "  <tbody>\n",
       "    <tr>\n",
       "      <th>(-1, 1]</th>\n",
       "      <td>9</td>\n",
       "      <td>9</td>\n",
       "      <td>25.00</td>\n",
       "    </tr>\n",
       "    <tr>\n",
       "      <th>(1, 3]</th>\n",
       "      <td>3</td>\n",
       "      <td>12</td>\n",
       "      <td>8.33</td>\n",
       "    </tr>\n",
       "    <tr>\n",
       "      <th>(3, 5]</th>\n",
       "      <td>4</td>\n",
       "      <td>16</td>\n",
       "      <td>11.11</td>\n",
       "    </tr>\n",
       "    <tr>\n",
       "      <th>(5, 7]</th>\n",
       "      <td>17</td>\n",
       "      <td>33</td>\n",
       "      <td>47.22</td>\n",
       "    </tr>\n",
       "    <tr>\n",
       "      <th>(7, 9]</th>\n",
       "      <td>3</td>\n",
       "      <td>36</td>\n",
       "      <td>8.33</td>\n",
       "    </tr>\n",
       "    <tr>\n",
       "      <th>(9, 11]</th>\n",
       "      <td>0</td>\n",
       "      <td>36</td>\n",
       "      <td>0.00</td>\n",
       "    </tr>\n",
       "  </tbody>\n",
       "</table>\n",
       "</div>"
      ],
      "text/plain": [
       "         Frequencia  Frequencia Acumulada  Frequencia Relatativa\n",
       "(-1, 1]           9                     9                  25.00\n",
       "(1, 3]            3                    12                   8.33\n",
       "(3, 5]            4                    16                  11.11\n",
       "(5, 7]           17                    33                  47.22\n",
       "(7, 9]            3                    36                   8.33\n",
       "(9, 11]           0                    36                   0.00"
      ]
     },
     "execution_count": 5,
     "metadata": {},
     "output_type": "execute_result"
    }
   ],
   "source": [
    "ultimo_digito_pesos = \"\"\"0 0 0 0 0 0 0 0 0 1 1 2 3 3 3 4 5 5 5 5 5 5 5 5 5 5 5 5 5 5 5 6 6 8 8 8\"\"\".split(\" \")\n",
    "tb_freq_pesos = TabelaFrequncia(np.array(ultimo_digito_pesos, np.int))\n",
    "tb_freq_pesos.cria_tabelaFrequencia()\n",
    "tb_freq_pesos.cria_frequancia_acumulada()\n",
    "tb_freq_pesos.cria_frequencia_relativa()\n",
    "tb_freq_pesos.dataFrame\n",
    "\n"
   ]
  },
  {
   "cell_type": "code",
   "execution_count": 15,
   "metadata": {
    "pycharm": {
     "name": "#%%\n"
    }
   },
   "outputs": [
    {
     "data": {
      "text/plain": "<matplotlib.axes._subplots.AxesSubplot at 0x1450d208>"
     },
     "execution_count": 15,
     "metadata": {},
     "output_type": "execute_result"
    },
    {
     "data": {
      "text/plain": "<Figure size 432x288 with 1 Axes>",
      "image/png": "[encoded data removed]"
     },
     "metadata": {
      "needs_background": "light"
     },
     "output_type": "display_data"
    }
   ],
   "source": [
    "colecao_df = pd.DataFrame(data=tb_freq_pesos.colecao)\n",
    "colecao_df.plot.hist()\n",
    "\n"
   ]
  },
  {
   "cell_type": "code",
   "execution_count": null,
   "outputs": [],
   "source": [
    "colecao_df.head(100)"
   ],
   "metadata": {
    "collapsed": false,
    "pycharm": {
     "name": "#%%\n"
    }
   }
  },
  {
   "cell_type": "code",
   "execution_count": null,
   "outputs": [],
   "source": [
    "coleca_df.describe()"
   ],
   "metadata": {
    "collapsed": false,
    "pycharm": {
     "name": "#%%\n"
    }
   }
  },
  {
   "cell_type": "code",
   "execution_count": 18,
   "outputs": [
    {
     "data": {
      "text/plain": "          Frequencia  Frequencia Relatativa\n(-2, 0]            0                    0.0\n(0, 2]            27                   54.0\n(2, 4]             3                    6.0\n(4, 6]            14                   28.0\n(6, 8]             1                    2.0\n(8, 10]            5                   10.0\n(10, 12]           0                    0.0",
      "text/html": "<div>\n<style scoped>\n    .dataframe tbody tr th:only-of-type {\n        vertical-align: middle;\n    }\n\n    .dataframe tbody tr th {\n        vertical-align: top;\n    }\n\n    .dataframe thead th {\n        text-align: right;\n    }\n</style>\n<table border=\"1\" class=\"dataframe\">\n  <thead>\n    <tr style=\"text-align: right;\">\n      <th></th>\n      <th>Frequencia</th>\n      <th>Frequencia Relatativa</th>\n    </tr>\n  </thead>\n  <tbody>\n    <tr>\n      <th>(-2, 0]</th>\n      <td>0</td>\n      <td>0.0</td>\n    </tr>\n    <tr>\n      <th>(0, 2]</th>\n      <td>27</td>\n      <td>54.0</td>\n    </tr>\n    <tr>\n      <th>(2, 4]</th>\n      <td>3</td>\n      <td>6.0</td>\n    </tr>\n    <tr>\n      <th>(4, 6]</th>\n      <td>14</td>\n      <td>28.0</td>\n    </tr>\n    <tr>\n      <th>(6, 8]</th>\n      <td>1</td>\n      <td>2.0</td>\n    </tr>\n    <tr>\n      <th>(8, 10]</th>\n      <td>5</td>\n      <td>10.0</td>\n    </tr>\n    <tr>\n      <th>(10, 12]</th>\n      <td>0</td>\n      <td>0.0</td>\n    </tr>\n  </tbody>\n</table>\n</div>"
     },
     "execution_count": 18,
     "metadata": {},
     "output_type": "execute_result"
    }
   ],
   "source": [
    "pesos_2 = \"\"\"5 0 1 0 2 0 5 0 5 0 3 8 5 0 5 0 5 6 0 0 0 0 0 0 8 5 5 0 4 5 0 0 4 0 0 0 0 0 8 0 9 5 3 0 5 0 0 0 5 8\"\"\".split(\" \")\n",
    "tb_pes_2 = TabelaFrequncia(np.array(pesos_2,np.int))\n",
    "tb_pes_2.cria_frequencia_relativa()"
   ],
   "metadata": {
    "collapsed": false,
    "pycharm": {
     "name": "#%%\n"
    }
   }
  },
  {
   "cell_type": "code",
   "execution_count": 19,
   "outputs": [
    {
     "data": {
      "text/plain": "array([[<matplotlib.axes._subplots.AxesSubplot object at 0x0F91C1F0>]],\n      dtype=object)"
     },
     "execution_count": 19,
     "metadata": {},
     "output_type": "execute_result"
    },
    {
     "data": {
      "text/plain": "<Figure size 432x288 with 1 Axes>",
      "image/png": "[encoded data removed]"
     },
     "metadata": {
      "needs_background": "light"
     },
     "output_type": "display_data"
    }
   ],
   "source": [
    "colceca_df  = pd.DataFrame(data=tb_pes_2.colecao)\n",
    "colceca_df.hist()"
   ],
   "metadata": {
    "collapsed": false,
    "pycharm": {
     "name": "#%%\n"
    }
   }
  },
  {
   "cell_type": "code",
   "execution_count": 20,
   "outputs": [
    {
     "data": {
      "text/plain": "               0\ncount  50.000000\nmean    2.480000\nstd     2.929373\nmin     0.000000\n25%     0.000000\n50%     0.000000\n75%     5.000000\nmax     9.000000",
      "text/html": "<div>\n<style scoped>\n    .dataframe tbody tr th:only-of-type {\n        vertical-align: middle;\n    }\n\n    .dataframe tbody tr th {\n        vertical-align: top;\n    }\n\n    .dataframe thead th {\n        text-align: right;\n    }\n</style>\n<table border=\"1\" class=\"dataframe\">\n  <thead>\n    <tr style=\"text-align: right;\">\n      <th></th>\n      <th>0</th>\n    </tr>\n  </thead>\n  <tbody>\n    <tr>\n      <th>count</th>\n      <td>50.000000</td>\n    </tr>\n    <tr>\n      <th>mean</th>\n      <td>2.480000</td>\n    </tr>\n    <tr>\n      <th>std</th>\n      <td>2.929373</td>\n    </tr>\n    <tr>\n      <th>min</th>\n      <td>0.000000</td>\n    </tr>\n    <tr>\n      <th>25%</th>\n      <td>0.000000</td>\n    </tr>\n    <tr>\n      <th>50%</th>\n      <td>0.000000</td>\n    </tr>\n    <tr>\n      <th>75%</th>\n      <td>5.000000</td>\n    </tr>\n    <tr>\n      <th>max</th>\n      <td>9.000000</td>\n    </tr>\n  </tbody>\n</table>\n</div>"
     },
     "execution_count": 20,
     "metadata": {},
     "output_type": "execute_result"
    }
   ],
   "source": [
    "colceca_df.describe()"
   ],
   "metadata": {
    "collapsed": false,
    "pycharm": {
     "name": "#%%\n"
    }
   }
  },
  {
   "cell_type": "code",
   "execution_count": 22,
   "outputs": [
    {
     "data": {
      "text/plain": "5    15\n0     9\n8     3\n3     3\n6     2\n1     2\n4     1\n2     1\ndtype: int64"
     },
     "execution_count": 22,
     "metadata": {},
     "output_type": "execute_result"
    }
   ],
   "source": [
    "colecao_peso_1 = pd.Series(tb_freq_pesos.colecao)\n",
    "colecao_peso_1.value_counts()"
   ],
   "metadata": {
    "collapsed": false,
    "pycharm": {
     "name": "#%%\n"
    }
   }
  },
  {
   "cell_type": "code",
   "execution_count": 23,
   "outputs": [
    {
     "data": {
      "text/plain": "count    36.000000\nmean      3.555556\nstd       2.579529\nmin       0.000000\n50%       5.000000\nmax       8.000000\ndtype: float64"
     },
     "execution_count": 23,
     "metadata": {},
     "output_type": "execute_result"
    }
   ],
   "source": [
    "colecao_peso_1.describe(())"
   ],
   "metadata": {
    "collapsed": false,
    "pycharm": {
     "name": "#%%\n"
    }
   }
  },
  {
   "cell_type": "code",
   "execution_count": null,
   "outputs": [],
   "source": [],
   "metadata": {
    "collapsed": false,
    "pycharm": {
     "name": "#%%\n"
    }
   }
  },
  {
   "cell_type": "code",
   "execution_count": null,
   "outputs": [],
   "source": [],
   "metadata": {
    "collapsed": false,
    "pycharm": {
     "name": "#%%\n"
    }
   }
  },
  {
   "cell_type": "code",
   "execution_count": 12,
   "metadata": {},
   "outputs": [
    {
     "data": {
      "text/html": [
       "<div>\n",
       "<style scoped>\n",
       "    .dataframe tbody tr th:only-of-type {\n",
       "        vertical-align: middle;\n",
       "    }\n",
       "\n",
       "    .dataframe tbody tr th {\n",
       "        vertical-align: top;\n",
       "    }\n",
       "\n",
       "    .dataframe thead th {\n",
       "        text-align: right;\n",
       "    }\n",
       "</style>\n",
       "<table border=\"1\" class=\"dataframe\">\n",
       "  <thead>\n",
       "    <tr style=\"text-align: right;\">\n",
       "      <th></th>\n",
       "      <th>0</th>\n",
       "    </tr>\n",
       "  </thead>\n",
       "  <tbody>\n",
       "    <tr>\n",
       "      <th>0</th>\n",
       "      <td>0</td>\n",
       "    </tr>\n",
       "    <tr>\n",
       "      <th>1</th>\n",
       "      <td>0</td>\n",
       "    </tr>\n",
       "    <tr>\n",
       "      <th>2</th>\n",
       "      <td>0</td>\n",
       "    </tr>\n",
       "    <tr>\n",
       "      <th>3</th>\n",
       "      <td>0</td>\n",
       "    </tr>\n",
       "    <tr>\n",
       "      <th>4</th>\n",
       "      <td>0</td>\n",
       "    </tr>\n",
       "    <tr>\n",
       "      <th>5</th>\n",
       "      <td>0</td>\n",
       "    </tr>\n",
       "    <tr>\n",
       "      <th>6</th>\n",
       "      <td>0</td>\n",
       "    </tr>\n",
       "    <tr>\n",
       "      <th>7</th>\n",
       "      <td>0</td>\n",
       "    </tr>\n",
       "    <tr>\n",
       "      <th>8</th>\n",
       "      <td>0</td>\n",
       "    </tr>\n",
       "    <tr>\n",
       "      <th>9</th>\n",
       "      <td>1</td>\n",
       "    </tr>\n",
       "    <tr>\n",
       "      <th>10</th>\n",
       "      <td>1</td>\n",
       "    </tr>\n",
       "    <tr>\n",
       "      <th>11</th>\n",
       "      <td>2</td>\n",
       "    </tr>\n",
       "    <tr>\n",
       "      <th>12</th>\n",
       "      <td>3</td>\n",
       "    </tr>\n",
       "    <tr>\n",
       "      <th>13</th>\n",
       "      <td>3</td>\n",
       "    </tr>\n",
       "    <tr>\n",
       "      <th>14</th>\n",
       "      <td>3</td>\n",
       "    </tr>\n",
       "    <tr>\n",
       "      <th>15</th>\n",
       "      <td>4</td>\n",
       "    </tr>\n",
       "    <tr>\n",
       "      <th>16</th>\n",
       "      <td>5</td>\n",
       "    </tr>\n",
       "    <tr>\n",
       "      <th>17</th>\n",
       "      <td>5</td>\n",
       "    </tr>\n",
       "    <tr>\n",
       "      <th>18</th>\n",
       "      <td>5</td>\n",
       "    </tr>\n",
       "    <tr>\n",
       "      <th>19</th>\n",
       "      <td>5</td>\n",
       "    </tr>\n",
       "    <tr>\n",
       "      <th>20</th>\n",
       "      <td>5</td>\n",
       "    </tr>\n",
       "    <tr>\n",
       "      <th>21</th>\n",
       "      <td>5</td>\n",
       "    </tr>\n",
       "    <tr>\n",
       "      <th>22</th>\n",
       "      <td>5</td>\n",
       "    </tr>\n",
       "    <tr>\n",
       "      <th>23</th>\n",
       "      <td>5</td>\n",
       "    </tr>\n",
       "    <tr>\n",
       "      <th>24</th>\n",
       "      <td>5</td>\n",
       "    </tr>\n",
       "    <tr>\n",
       "      <th>25</th>\n",
       "      <td>5</td>\n",
       "    </tr>\n",
       "    <tr>\n",
       "      <th>26</th>\n",
       "      <td>5</td>\n",
       "    </tr>\n",
       "    <tr>\n",
       "      <th>27</th>\n",
       "      <td>5</td>\n",
       "    </tr>\n",
       "    <tr>\n",
       "      <th>28</th>\n",
       "      <td>5</td>\n",
       "    </tr>\n",
       "    <tr>\n",
       "      <th>29</th>\n",
       "      <td>5</td>\n",
       "    </tr>\n",
       "    <tr>\n",
       "      <th>30</th>\n",
       "      <td>5</td>\n",
       "    </tr>\n",
       "    <tr>\n",
       "      <th>31</th>\n",
       "      <td>6</td>\n",
       "    </tr>\n",
       "    <tr>\n",
       "      <th>32</th>\n",
       "      <td>6</td>\n",
       "    </tr>\n",
       "    <tr>\n",
       "      <th>33</th>\n",
       "      <td>8</td>\n",
       "    </tr>\n",
       "    <tr>\n",
       "      <th>34</th>\n",
       "      <td>8</td>\n",
       "    </tr>\n",
       "    <tr>\n",
       "      <th>35</th>\n",
       "      <td>8</td>\n",
       "    </tr>\n",
       "  </tbody>\n",
       "</table>\n",
       "</div>"
      ],
      "text/plain": [
       "    0\n",
       "0   0\n",
       "1   0\n",
       "2   0\n",
       "3   0\n",
       "4   0\n",
       "5   0\n",
       "6   0\n",
       "7   0\n",
       "8   0\n",
       "9   1\n",
       "10  1\n",
       "11  2\n",
       "12  3\n",
       "13  3\n",
       "14  3\n",
       "15  4\n",
       "16  5\n",
       "17  5\n",
       "18  5\n",
       "19  5\n",
       "20  5\n",
       "21  5\n",
       "22  5\n",
       "23  5\n",
       "24  5\n",
       "25  5\n",
       "26  5\n",
       "27  5\n",
       "28  5\n",
       "29  5\n",
       "30  5\n",
       "31  6\n",
       "32  6\n",
       "33  8\n",
       "34  8\n",
       "35  8"
      ]
     },
     "execution_count": 12,
     "metadata": {},
     "output_type": "execute_result"
    }
   ],
   "source": []
  },
  {
   "cell_type": "code",
   "execution_count": 13,
   "metadata": {},
   "outputs": [
    {
     "data": {
      "text/html": [
       "<div>\n",
       "<style scoped>\n",
       "    .dataframe tbody tr th:only-of-type {\n",
       "        vertical-align: middle;\n",
       "    }\n",
       "\n",
       "    .dataframe tbody tr th {\n",
       "        vertical-align: top;\n",
       "    }\n",
       "\n",
       "    .dataframe thead th {\n",
       "        text-align: right;\n",
       "    }\n",
       "</style>\n",
       "<table border=\"1\" class=\"dataframe\">\n",
       "  <thead>\n",
       "    <tr style=\"text-align: right;\">\n",
       "      <th></th>\n",
       "      <th>0</th>\n",
       "    </tr>\n",
       "  </thead>\n",
       "  <tbody>\n",
       "    <tr>\n",
       "      <th>count</th>\n",
       "      <td>36.000000</td>\n",
       "    </tr>\n",
       "    <tr>\n",
       "      <th>mean</th>\n",
       "      <td>3.555556</td>\n",
       "    </tr>\n",
       "    <tr>\n",
       "      <th>std</th>\n",
       "      <td>2.579529</td>\n",
       "    </tr>\n",
       "    <tr>\n",
       "      <th>min</th>\n",
       "      <td>0.000000</td>\n",
       "    </tr>\n",
       "    <tr>\n",
       "      <th>25%</th>\n",
       "      <td>0.750000</td>\n",
       "    </tr>\n",
       "    <tr>\n",
       "      <th>50%</th>\n",
       "      <td>5.000000</td>\n",
       "    </tr>\n",
       "    <tr>\n",
       "      <th>75%</th>\n",
       "      <td>5.000000</td>\n",
       "    </tr>\n",
       "    <tr>\n",
       "      <th>max</th>\n",
       "      <td>8.000000</td>\n",
       "    </tr>\n",
       "  </tbody>\n",
       "</table>\n",
       "</div>"
      ],
      "text/plain": [
       "               0\n",
       "count  36.000000\n",
       "mean    3.555556\n",
       "std     2.579529\n",
       "min     0.000000\n",
       "25%     0.750000\n",
       "50%     5.000000\n",
       "75%     5.000000\n",
       "max     8.000000"
      ]
     },
     "execution_count": 13,
     "metadata": {},
     "output_type": "execute_result"
    }
   ],
   "source": [
    "coleca_df.describe()"
   ]
  },
  {
   "cell_type": "code",
   "execution_count": null,
   "metadata": {},
   "outputs": [],
   "source": []
  }
 ],
 "metadata": {
  "colab": {
   "name": "Tabela_Frequencia.ipynb",
   "provenance": []
  },
  "kernelspec": {
   "display_name": "Python 3",
   "language": "python",
   "name": "python3"
  },
  "language_info": {
   "codemirror_mode": {
    "name": "ipython",
    "version": 3
   },
   "file_extension": ".py",
   "mimetype": "text/x-python",
   "name": "python",
   "nbconvert_exporter": "python",
   "pygments_lexer": "ipython3",
   "version": "3.8.2"
  }
 },
 "nbformat": 4,
 "nbformat_minor": 1
}