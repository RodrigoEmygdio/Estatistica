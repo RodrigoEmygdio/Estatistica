{
 "nbformat": 4,
 "nbformat_minor": 0,
 "metadata": {
  "colab": {
   "name": "Tabela_Frequencia.ipynb",
   "provenance": []
  },
  "kernelspec": {
   "name": "python3",
   "language": "python",
   "display_name": "Python 3"
  }
 },
 "cells": [
  {
   "cell_type": "code",
   "metadata": {
    "id": "Au8EhTtpqxPm",
    "colab_type": "code",
    "colab": {}
   },
   "source": [
    "from pandas import np\n",
    "from models.tabelas import TabelFrequncia\n",
    "def print_info_tb_freq(tb:TabelFrequncia):\n",
    "    print(f\"Numero de classes: {tb.numero_classes}\")\n",
    "    print(f\"Intervalo das classes: {tb.intervalo_classes}\")\n",
    "    print(f\"Amplitude: {tb.At}\")\n",
    "    print(f\"Excesso: {tb.excesso}\")\n",
    "    print(f'Primeiro elemento: {tb.colecao.min()}')\n",
    "    print(f'Ultimo elemento: {tb.colecao.max()}')"
   ],
   "execution_count": 1,
   "outputs": [
    {
     "name": "stderr",
     "output_type": "stream",
     "text": [
      "<ipython-input-1-5bf85f216254>:1: FutureWarning: The pandas.np module is deprecated and will be removed from pandas in a future version. Import numpy directly instead\n",
      "  from pandas import np\n"
     ]
    }
   ]
  },
  {
   "cell_type": "markdown",
   "source": [
    "### Criando Tabela de  frequêcia atraves de um listagem de idades"
   ],
   "metadata": {
    "collapsed": false
   }
  },
  {
   "cell_type": "code",
   "metadata": {
    "id": "hAv1XRb4rEGp",
    "colab_type": "code",
    "colab": {
     "base_uri": "https://localhost:8080/",
     "height": 102
    },
    "outputId": "148093d3-a9f6-45dd-e27e-9430df236d25"
   },
   "source": [
    "sequencia_numerica = \"\"\"39 43 45 50 50 53 54 55 58 59 61 61 63 63 63 64 66 68 68 68 68 68 70 71 72 72 73 73 73 74 75 75 75 75 75 76 77 77 78 78 78 79 80 81 81 82 82 82 83 84 84 84 86 88 90 91 95 96 99 106\"\"\".split(' ')\n",
    "tb_seq_num = TabelFrequncia(np.array(sequencia_numerica,dtype=np.int))\n",
    "print_info_tb_freq(tb_seq_num)\n",
    "tb_seq_num.cria_tabelaFrequencia()"
   ],
   "execution_count": 2,
   "outputs": [
    {
     "name": "stdout",
     "output_type": "stream",
     "text": [
      "Numero de classes: 8\n",
      "Intervalo das classes: 9\n",
      "Amplitude: 67\n",
      "Excesso: 5\n",
      "Primeiro elemento: 39\n",
      "Ultimo elemento: 106\n"
     ]
    },
    {
     "data": {
      "text/plain": "                Frequencia\n[37.0, 46.0)             3\n[46.0, 55.0)             4\n[55.0, 64.0)             8\n[64.0, 73.0)            11\n[73.0, 82.0)            19\n[82.0, 91.0)            10\n[91.0, 100.0)            4\n[100.0, 109.0)           1\nTotal                   60",
      "text/html": "<div>\n<style scoped>\n    .dataframe tbody tr th:only-of-type {\n        vertical-align: middle;\n    }\n\n    .dataframe tbody tr th {\n        vertical-align: top;\n    }\n\n    .dataframe thead th {\n        text-align: right;\n    }\n</style>\n<table border=\"1\" class=\"dataframe\">\n  <thead>\n    <tr style=\"text-align: right;\">\n      <th></th>\n      <th>Frequencia</th>\n    </tr>\n  </thead>\n  <tbody>\n    <tr>\n      <th>[37.0, 46.0)</th>\n      <td>3</td>\n    </tr>\n    <tr>\n      <th>[46.0, 55.0)</th>\n      <td>4</td>\n    </tr>\n    <tr>\n      <th>[55.0, 64.0)</th>\n      <td>8</td>\n    </tr>\n    <tr>\n      <th>[64.0, 73.0)</th>\n      <td>11</td>\n    </tr>\n    <tr>\n      <th>[73.0, 82.0)</th>\n      <td>19</td>\n    </tr>\n    <tr>\n      <th>[82.0, 91.0)</th>\n      <td>10</td>\n    </tr>\n    <tr>\n      <th>[91.0, 100.0)</th>\n      <td>4</td>\n    </tr>\n    <tr>\n      <th>[100.0, 109.0)</th>\n      <td>1</td>\n    </tr>\n    <tr>\n      <th>Total</th>\n      <td>60</td>\n    </tr>\n  </tbody>\n</table>\n</div>"
     },
     "execution_count": 2,
     "metadata": {},
     "output_type": "execute_result"
    }
   ]
  },
  {
   "cell_type": "markdown",
   "source": [
    "### Criando Tabela de  frequêcia atraves de lista de gasto de energia"
   ],
   "metadata": {
    "collapsed": false
   }
  },
  {
   "cell_type": "code",
   "metadata": {
    "id": "Nm6_QVJcrocp",
    "colab_type": "code",
    "colab": {
     "base_uri": "https://localhost:8080/",
     "height": 34
    },
    "outputId": "248fe149-87b3-4f31-a5ea-b3fe62e4e4c7",
    "pycharm": {
     "name": "#%%\n"
    }
   },
   "source": [
    "consumo_energia = \"\"\"60 62 65 65 66 68 70 70 72 73 74 74 74 75 76 77 77 77 80 80 81 81 81 81 83 85 86 86 86 87 87 88 89 89 89 89 89 90 90 91 91 91 91 91 93 93 95 96 96 98 98 100 101 101 102 103 103 105 107 108 110 111 113\"\"\".split(\" \")\n",
    "tb_consumo_energia = TabelFrequncia(np.array(consumo_energia,dtype=np.int))\n",
    "print_info_tb_freq(tb_consumo_energia)\n",
    "print(tb_consumo_energia.colecao[tb_consumo_energia.colecao <68])\n",
    "tb_consumo_energia.cria_tabelaFrequencia()"
   ],
   "execution_count": 3,
   "outputs": [
    {
     "name": "stdout",
     "output_type": "stream",
     "text": [
      "Numero de classes: 8\n",
      "Intervalo das classes: 7\n",
      "Amplitude: 53\n",
      "Excesso: 3\n",
      "Primeiro elemento: 60\n",
      "Ultimo elemento: 113\n",
      "[60 62 65 65 66]\n"
     ]
    },
    {
     "data": {
      "text/plain": "                Frequencia\n[59.0, 66.0)             4\n[66.0, 73.0)             5\n[73.0, 80.0)             9\n[80.0, 87.0)            11\n[87.0, 94.0)            17\n[94.0, 101.0)            6\n[101.0, 108.0)           7\n[108.0, 115.0)           4\nTotal                   63",
      "text/html": "<div>\n<style scoped>\n    .dataframe tbody tr th:only-of-type {\n        vertical-align: middle;\n    }\n\n    .dataframe tbody tr th {\n        vertical-align: top;\n    }\n\n    .dataframe thead th {\n        text-align: right;\n    }\n</style>\n<table border=\"1\" class=\"dataframe\">\n  <thead>\n    <tr style=\"text-align: right;\">\n      <th></th>\n      <th>Frequencia</th>\n    </tr>\n  </thead>\n  <tbody>\n    <tr>\n      <th>[59.0, 66.0)</th>\n      <td>4</td>\n    </tr>\n    <tr>\n      <th>[66.0, 73.0)</th>\n      <td>5</td>\n    </tr>\n    <tr>\n      <th>[73.0, 80.0)</th>\n      <td>9</td>\n    </tr>\n    <tr>\n      <th>[80.0, 87.0)</th>\n      <td>11</td>\n    </tr>\n    <tr>\n      <th>[87.0, 94.0)</th>\n      <td>17</td>\n    </tr>\n    <tr>\n      <th>[94.0, 101.0)</th>\n      <td>6</td>\n    </tr>\n    <tr>\n      <th>[101.0, 108.0)</th>\n      <td>7</td>\n    </tr>\n    <tr>\n      <th>[108.0, 115.0)</th>\n      <td>4</td>\n    </tr>\n    <tr>\n      <th>Total</th>\n      <td>63</td>\n    </tr>\n  </tbody>\n</table>\n</div>"
     },
     "execution_count": 3,
     "metadata": {},
     "output_type": "execute_result"
    }
   ]
  },
  {
   "cell_type": "code",
   "execution_count": 4,
   "outputs": [
    {
     "name": "stdout",
     "output_type": "stream",
     "text": [
      "Numero de classes: 8\n",
      "Intervalo das classes: 10\n",
      "Amplitude: 73\n",
      "Excesso: 7\n",
      "Primeiro elemento: 53\n",
      "Ultimo elemento: 126\n"
     ]
    },
    {
     "data": {
      "text/plain": "                Frequencia\n[51.0, 61.0)             5\n[61.0, 71.0)             9\n[71.0, 81.0)            19\n[81.0, 91.0)            14\n[91.0, 101.0)            8\n[101.0, 111.0)           5\n[111.0, 121.0)           6\n[121.0, 131.0)           4\nTotal                   70",
      "text/html": "<div>\n<style scoped>\n    .dataframe tbody tr th:only-of-type {\n        vertical-align: middle;\n    }\n\n    .dataframe tbody tr th {\n        vertical-align: top;\n    }\n\n    .dataframe thead th {\n        text-align: right;\n    }\n</style>\n<table border=\"1\" class=\"dataframe\">\n  <thead>\n    <tr style=\"text-align: right;\">\n      <th></th>\n      <th>Frequencia</th>\n    </tr>\n  </thead>\n  <tbody>\n    <tr>\n      <th>[51.0, 61.0)</th>\n      <td>5</td>\n    </tr>\n    <tr>\n      <th>[61.0, 71.0)</th>\n      <td>9</td>\n    </tr>\n    <tr>\n      <th>[71.0, 81.0)</th>\n      <td>19</td>\n    </tr>\n    <tr>\n      <th>[81.0, 91.0)</th>\n      <td>14</td>\n    </tr>\n    <tr>\n      <th>[91.0, 101.0)</th>\n      <td>8</td>\n    </tr>\n    <tr>\n      <th>[101.0, 111.0)</th>\n      <td>5</td>\n    </tr>\n    <tr>\n      <th>[111.0, 121.0)</th>\n      <td>6</td>\n    </tr>\n    <tr>\n      <th>[121.0, 131.0)</th>\n      <td>4</td>\n    </tr>\n    <tr>\n      <th>Total</th>\n      <td>70</td>\n    </tr>\n  </tbody>\n</table>\n</div>"
     },
     "execution_count": 4,
     "metadata": {},
     "output_type": "execute_result"
    }
   ],
   "source": [
    "\n",
    "nivel_ruido = \"\"\"53 55 73 75 80 81 93 95 118 120 58 60 76 76 81 83 95 97 121 121 60 62 76 78 83 84 98 98 124 126 65 66 68 68 68 69 70 70 72 73 78 78 78 79 80 80 80 80 80 80 84 84 85 85 86 86 86 88 90 93 100 106 106 107 109 109 112 115 116 116\"\"\".split(\" \")\n",
    "tb_nivel_ruido = TabelFrequncia(np.array(nivel_ruido,dtype=np.int))\n",
    "print_info_tb_freq(tb_nivel_ruido)\n",
    "tb_nivel_ruido.cria_tabelaFrequencia()"
   ],
   "metadata": {
    "collapsed": false,
    "pycharm": {
     "name": "#%%\n"
    }
   }
  },
  {
   "cell_type": "code",
   "execution_count": 5,
   "outputs": [
    {
     "data": {
      "text/plain": "<models.tabelas.TabelFrequncia at 0x1e247c8fa90>"
     },
     "execution_count": 5,
     "metadata": {},
     "output_type": "execute_result"
    }
   ],
   "source": [
    "pecas_com_defeitos = \"\"\"40 44 47 48 50 53 53 56 58 59 61 61 63 63 63 64 64 65 66 67 68 69 69 71 71 71 71 71 72 72 73 73 74 74 74 74 74 75 75 75 76 77 77 77 77 77 78 78 80 81 82 86 88 89 91 95 99 102 107 112\"\"\".split(\" \")\n",
    "TabelFrequncia(np.array(pecas_com_defeitos,dtype=np.int))"
   ],
   "metadata": {
    "collapsed": false,
    "pycharm": {
     "name": "#%%\n"
    }
   }
  },
  {
   "cell_type": "code",
   "execution_count": 5,
   "outputs": [],
   "source": [
    "\n"
   ],
   "metadata": {
    "collapsed": false,
    "pycharm": {
     "name": "#%%\n"
    }
   }
  }
 ]
}