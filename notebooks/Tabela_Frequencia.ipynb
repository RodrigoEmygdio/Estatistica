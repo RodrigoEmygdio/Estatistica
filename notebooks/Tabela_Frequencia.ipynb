{
 "nbformat": 4,
 "nbformat_minor": 0,
 "metadata": {
  "colab": {
   "name": "Tabela_Frequencia.ipynb",
   "provenance": []
  },
  "kernelspec": {
   "name": "python3",
   "language": "python",
   "display_name": "Python 3"
  }
 },
 "cells": [
  {
   "cell_type": "code",
   "metadata": {
    "id": "sQsflxpwrPaL",
    "colab_type": "code",
    "colab": {}
   },
   "source": [
    "import numpy as np\n",
    "import pandas as pd\n",
    "import math "
   ],
   "execution_count": 1,
   "outputs": []
  },
  {
   "cell_type": "code",
   "metadata": {
    "id": "Au8EhTtpqxPm",
    "colab_type": "code",
    "colab": {}
   },
   "source": [
    "sequencia_numerica = \"\"\"39 43 45 50 50 53 54 55 58 59 61 61 63 63 63 64 66 68 68 68 68 68 70 71 72 72 73 73 73 74 75 75 75 75 75 76 77 77 78 78 78 79 80 81 81 82 82 82 83 84 84 84 86 88 90 91 95 96 99 106\"\"\".split(' ')"
   ],
   "execution_count": 2,
   "outputs": [
    {
     "data": {
      "text/plain": "['39',\n '43',\n '45',\n '50',\n '50',\n '53',\n '54',\n '55',\n '58',\n '59',\n '61',\n '61',\n '63',\n '63',\n '63',\n '64',\n '66',\n '68',\n '68',\n '68',\n '68',\n '68',\n '70',\n '71',\n '72',\n '72',\n '73',\n '73',\n '73',\n '74',\n '75',\n '75',\n '75',\n '75',\n '75',\n '76',\n '77',\n '77',\n '78',\n '78',\n '78',\n '79',\n '80',\n '81',\n '81',\n '82',\n '82',\n '82',\n '83',\n '84',\n '84',\n '84',\n '86',\n '88',\n '90',\n '91',\n '95',\n '96',\n '99',\n '106']"
     },
     "execution_count": 2,
     "metadata": {},
     "output_type": "execute_result"
    }
   ]
  },
  {
   "cell_type": "code",
   "metadata": {
    "id": "hAv1XRb4rEGp",
    "colab_type": "code",
    "colab": {
     "base_uri": "https://localhost:8080/",
     "height": 102
    },
    "outputId": "148093d3-a9f6-45dd-e27e-9430df236d25"
   },
   "source": [
    "colecao  = np.array(sequencia_numerica,dtype=np.int)\n",
    "colecao = np.sort(colecao)"
   ],
   "execution_count": 19,
   "outputs": []
  },
  {
   "cell_type": "code",
   "metadata": {
    "id": "Nm6_QVJcrocp",
    "colab_type": "code",
    "colab": {
     "base_uri": "https://localhost:8080/",
     "height": 34
    },
    "outputId": "248fe149-87b3-4f31-a5ea-b3fe62e4e4c7"
   },
   "source": [
    "k = round(math.sqrt(colecao.shape[0]))\n",
    "k"
   ],
   "execution_count": 6,
   "outputs": [
    {
     "data": {
      "text/plain": "8"
     },
     "execution_count": 6,
     "metadata": {},
     "output_type": "execute_result"
    }
   ]
  },
  {
   "cell_type": "code",
   "metadata": {
    "id": "U8M2YzSEsV5p",
    "colab_type": "code",
    "colab": {
     "base_uri": "https://localhost:8080/",
     "height": 34
    },
    "outputId": "3805cac9-0433-4e64-f800-5740c8639635"
   },
   "source": [
    "At = colecao.max() - colecao.min()\n",
    "At"
   ],
   "execution_count": 7,
   "outputs": [
    {
     "data": {
      "text/plain": "67"
     },
     "execution_count": 7,
     "metadata": {},
     "output_type": "execute_result"
    }
   ]
  },
  {
   "cell_type": "code",
   "metadata": {
    "id": "p04avBA-svFP",
    "colab_type": "code",
    "colab": {
     "base_uri": "https://localhost:8080/",
     "height": 34
    },
    "outputId": "24d07a62-69a9-43de-e08d-5ce6fc3b5a76"
   },
   "source": [
    "i = math.ceil(At/k)\n",
    "i"
   ],
   "execution_count": 8,
   "outputs": [
    {
     "data": {
      "text/plain": "9"
     },
     "execution_count": 8,
     "metadata": {},
     "output_type": "execute_result"
    }
   ]
  },
  {
   "cell_type": "code",
   "metadata": {
    "id": "4f3ihygQs4MR",
    "colab_type": "code",
    "colab": {
     "base_uri": "https://localhost:8080/",
     "height": 34
    },
    "outputId": "a2a0b573-83ee-4fe5-81c0-2e7bab3faad2"
   },
   "source": [
    "excesso = k * i - At\n",
    "excesso"
   ],
   "execution_count": 9,
   "outputs": [
    {
     "data": {
      "text/plain": "5"
     },
     "execution_count": 9,
     "metadata": {},
     "output_type": "execute_result"
    }
   ]
  },
  {
   "cell_type": "code",
   "metadata": {
    "id": "gYw8GXVmwrTB",
    "colab_type": "code",
    "colab": {
     "base_uri": "https://localhost:8080/",
     "height": 68
    },
    "outputId": "3ea16c5d-12e9-45fd-c82b-3d6f9139ddb4"
   },
   "source": [
    "intervalo_index = pd.interval_range(start=colecao.min() - math.ceil(excesso * 0.25),end=(excesso -  math.ceil(excesso * 0.25)) + colecao.max() ,freq=9, closed='left' )\n",
    "intervalo_index"
   ],
   "execution_count": 10,
   "outputs": [
    {
     "data": {
      "text/plain": "IntervalIndex([[37, 46), [46, 55), [55, 64), [64, 73), [73, 82), [82, 91), [91, 100), [100, 109)],\n              closed='left',\n              dtype='interval[int64]')"
     },
     "execution_count": 10,
     "metadata": {},
     "output_type": "execute_result"
    }
   ]
  },
  {
   "cell_type": "code",
   "metadata": {
    "id": "R7tRGs8ZyADZ",
    "colab_type": "code",
    "colab": {
     "base_uri": "https://localhost:8080/",
     "height": 34
    },
    "outputId": "b2787ed5-b463-415c-d652-e8a2477785fd"
   },
   "source": [
    "intervalo_index.values[0]"
   ],
   "execution_count": 18,
   "outputs": [
    {
     "data": {
      "text/plain": "'left'"
     },
     "execution_count": 18,
     "metadata": {},
     "output_type": "execute_result"
    }
   ]
  },
  {
   "cell_type": "code",
   "metadata": {
    "id": "4JhNVV9jysQM",
    "colab_type": "code",
    "colab": {}
   },
   "source": [
    "conputacao_valores = []\n",
    "for intervalo in intervalo_index.values:\n",
    "   conputacao_valores.append(colecao[(colecao >= intervalo.left) & (colecao < intervalo.right)].shape[0])"
   ],
   "execution_count": 30,
   "outputs": []
  },
  {
   "cell_type": "code",
   "execution_count": 36,
   "outputs": [
    {
     "data": {
      "text/plain": "            Frequencia\n[37, 46)             3\n[46, 55)             4\n[55, 64)             8\n[64, 73)            11\n[73, 82)            19\n[82, 91)            10\n[91, 100)            4\n[100, 109)           1",
      "text/html": "<div>\n<style scoped>\n    .dataframe tbody tr th:only-of-type {\n        vertical-align: middle;\n    }\n\n    .dataframe tbody tr th {\n        vertical-align: top;\n    }\n\n    .dataframe thead th {\n        text-align: right;\n    }\n</style>\n<table border=\"1\" class=\"dataframe\">\n  <thead>\n    <tr style=\"text-align: right;\">\n      <th></th>\n      <th>Frequencia</th>\n    </tr>\n  </thead>\n  <tbody>\n    <tr>\n      <th>[37, 46)</th>\n      <td>3</td>\n    </tr>\n    <tr>\n      <th>[46, 55)</th>\n      <td>4</td>\n    </tr>\n    <tr>\n      <th>[55, 64)</th>\n      <td>8</td>\n    </tr>\n    <tr>\n      <th>[64, 73)</th>\n      <td>11</td>\n    </tr>\n    <tr>\n      <th>[73, 82)</th>\n      <td>19</td>\n    </tr>\n    <tr>\n      <th>[82, 91)</th>\n      <td>10</td>\n    </tr>\n    <tr>\n      <th>[91, 100)</th>\n      <td>4</td>\n    </tr>\n    <tr>\n      <th>[100, 109)</th>\n      <td>1</td>\n    </tr>\n  </tbody>\n</table>\n</div>"
     },
     "execution_count": 36,
     "metadata": {},
     "output_type": "execute_result"
    }
   ],
   "source": [
    "df = pd.DataFrame(data=conputacao_valores,index=intervalo_index,columns=['Frequencia'])\n"
   ],
   "metadata": {
    "collapsed": false,
    "pycharm": {
     "name": "#%%\n"
    }
   }
  },
  {
   "cell_type": "code",
   "execution_count": 41,
   "outputs": [],
   "source": [
    "df.index.name = 'Classe'"
   ],
   "metadata": {
    "collapsed": false,
    "pycharm": {
     "name": "#%%\n"
    }
   }
  },
  {
   "cell_type": "code",
   "execution_count": 48,
   "outputs": [
    {
     "data": {
      "text/plain": "            Frequencia\n[37, 46)             3\n[46, 55)             4\n[55, 64)             8\n[64, 73)            11\n[73, 82)            19\n[82, 91)            10\n[91, 100)            4\n[100, 109)           1\nTotal               60",
      "text/html": "<div>\n<style scoped>\n    .dataframe tbody tr th:only-of-type {\n        vertical-align: middle;\n    }\n\n    .dataframe tbody tr th {\n        vertical-align: top;\n    }\n\n    .dataframe thead th {\n        text-align: right;\n    }\n</style>\n<table border=\"1\" class=\"dataframe\">\n  <thead>\n    <tr style=\"text-align: right;\">\n      <th></th>\n      <th>Frequencia</th>\n    </tr>\n  </thead>\n  <tbody>\n    <tr>\n      <th>[37, 46)</th>\n      <td>3</td>\n    </tr>\n    <tr>\n      <th>[46, 55)</th>\n      <td>4</td>\n    </tr>\n    <tr>\n      <th>[55, 64)</th>\n      <td>8</td>\n    </tr>\n    <tr>\n      <th>[64, 73)</th>\n      <td>11</td>\n    </tr>\n    <tr>\n      <th>[73, 82)</th>\n      <td>19</td>\n    </tr>\n    <tr>\n      <th>[82, 91)</th>\n      <td>10</td>\n    </tr>\n    <tr>\n      <th>[91, 100)</th>\n      <td>4</td>\n    </tr>\n    <tr>\n      <th>[100, 109)</th>\n      <td>1</td>\n    </tr>\n    <tr>\n      <th>Total</th>\n      <td>60</td>\n    </tr>\n  </tbody>\n</table>\n</div>"
     },
     "execution_count": 48,
     "metadata": {},
     "output_type": "execute_result"
    }
   ],
   "source": [
    "df.append(pd.DataFrame(data=[df['Frequencia'].sum()],index=['Total'],columns=df.columns))\n"
   ],
   "metadata": {
    "collapsed": false,
    "pycharm": {
     "name": "#%%\n"
    }
   }
  }
 ]
}