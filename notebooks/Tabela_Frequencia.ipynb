{
 "nbformat": 4,
 "nbformat_minor": 0,
 "metadata": {
  "colab": {
   "name": "Tabela_Frequencia.ipynb",
   "provenance": []
  },
  "kernelspec": {
   "name": "python3",
   "language": "python",
   "display_name": "Python 3"
  }
 },
 "cells": [
  {
   "cell_type": "code",
   "metadata": {
    "id": "Au8EhTtpqxPm",
    "colab_type": "code",
    "colab": {}
   },
   "source": [
    "from pandas import np\n",
    "from models.tabelas import TabelaFrequncia\n",
    "def print_info_tb_freq(tb:TabelaFrequncia):\n",
    "    print(f\"Numero de classes: {tb.numero_classes}\")\n",
    "    print(f\"Intervalo das classes: {tb.intervalo_classes}\")\n",
    "    print(f\"Amplitude: {tb.At}\")\n",
    "    print(f\"Excesso: {tb.excesso}\")\n",
    "    print(f'Primeiro elemento: {tb.colecao.min()}')\n",
    "    print(f'Ultimo elemento: {tb.colecao.max()}')"
   ],
   "execution_count": 1,
   "outputs": [
    {
     "name": "stderr",
     "output_type": "stream",
     "text": [
      "<ipython-input-1-6717f0962359>:1: FutureWarning: The pandas.np module is deprecated and will be removed from pandas in a future version. Import numpy directly instead\n",
      "  from pandas import np\n"
     ]
    }
   ]
  },
  {
   "cell_type": "markdown",
   "source": [
    "### Criando Tabela de  frequêcia atraves de um listagem de idades"
   ],
   "metadata": {
    "collapsed": false
   }
  },
  {
   "cell_type": "code",
   "metadata": {
    "id": "hAv1XRb4rEGp",
    "colab_type": "code",
    "colab": {
     "base_uri": "https://localhost:8080/",
     "height": 102
    },
    "outputId": "148093d3-a9f6-45dd-e27e-9430df236d25"
   },
   "source": [
    "sequencia_numerica = \"\"\"39 43 45 50 50 53 54 55 58 59 61 61 63 63 63 64 66 68 68 68 68 68 70 71 72 72 73 73 73 74 75 75 75 75 75 76 77 77 78 78 78 79 80 81 81 82 82 82 83 84 84 84 86 88 90 91 95 96 99 106\"\"\".split(' ')\n",
    "tb_seq_num = TabelaFrequncia(np.array(sequencia_numerica,dtype=np.int))\n",
    "print_info_tb_freq(tb_seq_num)\n",
    "tb_seq_num.cria_frequencia_relativa()"
   ],
   "execution_count": 2,
   "outputs": [
    {
     "name": "stdout",
     "output_type": "stream",
     "text": [
      "Numero de classes: 8\n",
      "Intervalo das classes: 9\n",
      "Amplitude: 67\n",
      "Excesso: 5\n",
      "Primeiro elemento: 39\n",
      "Ultimo elemento: 106\n"
     ]
    },
    {
     "data": {
      "text/plain": "            Frequencia  Frequencia Relatativa\n[37, 46)             3                   5.00\n[46, 55)             4                   6.67\n[55, 64)             8                  13.33\n[64, 73)            11                  18.33\n[73, 82)            19                  31.67\n[82, 91)            10                  16.67\n[91, 100)            4                   6.67\n[100, 109)           1                   1.67",
      "text/html": "<div>\n<style scoped>\n    .dataframe tbody tr th:only-of-type {\n        vertical-align: middle;\n    }\n\n    .dataframe tbody tr th {\n        vertical-align: top;\n    }\n\n    .dataframe thead th {\n        text-align: right;\n    }\n</style>\n<table border=\"1\" class=\"dataframe\">\n  <thead>\n    <tr style=\"text-align: right;\">\n      <th></th>\n      <th>Frequencia</th>\n      <th>Frequencia Relatativa</th>\n    </tr>\n  </thead>\n  <tbody>\n    <tr>\n      <th>[37, 46)</th>\n      <td>3</td>\n      <td>5.00</td>\n    </tr>\n    <tr>\n      <th>[46, 55)</th>\n      <td>4</td>\n      <td>6.67</td>\n    </tr>\n    <tr>\n      <th>[55, 64)</th>\n      <td>8</td>\n      <td>13.33</td>\n    </tr>\n    <tr>\n      <th>[64, 73)</th>\n      <td>11</td>\n      <td>18.33</td>\n    </tr>\n    <tr>\n      <th>[73, 82)</th>\n      <td>19</td>\n      <td>31.67</td>\n    </tr>\n    <tr>\n      <th>[82, 91)</th>\n      <td>10</td>\n      <td>16.67</td>\n    </tr>\n    <tr>\n      <th>[91, 100)</th>\n      <td>4</td>\n      <td>6.67</td>\n    </tr>\n    <tr>\n      <th>[100, 109)</th>\n      <td>1</td>\n      <td>1.67</td>\n    </tr>\n  </tbody>\n</table>\n</div>"
     },
     "execution_count": 2,
     "metadata": {},
     "output_type": "execute_result"
    }
   ]
  },
  {
   "cell_type": "markdown",
   "source": [
    "### Criando Tabela de  frequêcia atraves de lista de gasto de energia"
   ],
   "metadata": {
    "collapsed": false
   }
  },
  {
   "cell_type": "code",
   "metadata": {
    "id": "Nm6_QVJcrocp",
    "colab_type": "code",
    "colab": {
     "base_uri": "https://localhost:8080/",
     "height": 34
    },
    "outputId": "248fe149-87b3-4f31-a5ea-b3fe62e4e4c7",
    "pycharm": {
     "name": "#%%\n"
    }
   },
   "source": [
    "consumo_energia = \"\"\"60 62 65 65 66 68 70 70 72 73 74 74 74 75 76 77 77 77 80 80 81 81 81 81 83 85 86 86 86 87 87 88 89 89 89 89 89 90 90 91 91 91 91 91 93 93 95 96 96 98 98 100 101 101 102 103 103 105 107 108 110 111 113\"\"\".split(\" \")\n",
    "tb_consumo_energia = TabelaFrequncia(np.array(consumo_energia,dtype=np.int))\n",
    "print_info_tb_freq(tb_consumo_energia)\n",
    "print(tb_consumo_energia.colecao[tb_consumo_energia.colecao <68])\n",
    "tb_consumo_energia.cria_tabelaFrequencia()"
   ],
   "execution_count": 3,
   "outputs": [
    {
     "name": "stdout",
     "output_type": "stream",
     "text": [
      "Numero de classes: 8\n",
      "Intervalo das classes: 7\n",
      "Amplitude: 53\n",
      "Excesso: 3\n",
      "Primeiro elemento: 60\n",
      "Ultimo elemento: 113\n",
      "[60 62 65 65 66]\n"
     ]
    },
    {
     "data": {
      "text/plain": "            Frequencia\n[59, 66)             4\n[66, 73)             5\n[73, 80)             9\n[80, 87)            11\n[87, 94)            17\n[94, 101)            6\n[101, 108)           7\n[108, 115)           4\nTotal               63",
      "text/html": "<div>\n<style scoped>\n    .dataframe tbody tr th:only-of-type {\n        vertical-align: middle;\n    }\n\n    .dataframe tbody tr th {\n        vertical-align: top;\n    }\n\n    .dataframe thead th {\n        text-align: right;\n    }\n</style>\n<table border=\"1\" class=\"dataframe\">\n  <thead>\n    <tr style=\"text-align: right;\">\n      <th></th>\n      <th>Frequencia</th>\n    </tr>\n  </thead>\n  <tbody>\n    <tr>\n      <th>[59, 66)</th>\n      <td>4</td>\n    </tr>\n    <tr>\n      <th>[66, 73)</th>\n      <td>5</td>\n    </tr>\n    <tr>\n      <th>[73, 80)</th>\n      <td>9</td>\n    </tr>\n    <tr>\n      <th>[80, 87)</th>\n      <td>11</td>\n    </tr>\n    <tr>\n      <th>[87, 94)</th>\n      <td>17</td>\n    </tr>\n    <tr>\n      <th>[94, 101)</th>\n      <td>6</td>\n    </tr>\n    <tr>\n      <th>[101, 108)</th>\n      <td>7</td>\n    </tr>\n    <tr>\n      <th>[108, 115)</th>\n      <td>4</td>\n    </tr>\n    <tr>\n      <th>Total</th>\n      <td>63</td>\n    </tr>\n  </tbody>\n</table>\n</div>"
     },
     "execution_count": 3,
     "metadata": {},
     "output_type": "execute_result"
    }
   ]
  },
  {
   "cell_type": "code",
   "execution_count": 4,
   "outputs": [
    {
     "name": "stdout",
     "output_type": "stream",
     "text": [
      "Numero de classes: 8\n",
      "Intervalo das classes: 10\n",
      "Amplitude: 73\n",
      "Excesso: 7\n",
      "Primeiro elemento: 53\n",
      "Ultimo elemento: 126\n",
      "[53 55 58]\n"
     ]
    },
    {
     "data": {
      "text/plain": "            Frequencia\n[51, 61)             5\n[61, 71)             9\n[71, 81)            19\n[81, 91)            14\n[91, 101)            8\n[101, 111)           5\n[111, 121)           6\n[121, 131)           4\nTotal               70",
      "text/html": "<div>\n<style scoped>\n    .dataframe tbody tr th:only-of-type {\n        vertical-align: middle;\n    }\n\n    .dataframe tbody tr th {\n        vertical-align: top;\n    }\n\n    .dataframe thead th {\n        text-align: right;\n    }\n</style>\n<table border=\"1\" class=\"dataframe\">\n  <thead>\n    <tr style=\"text-align: right;\">\n      <th></th>\n      <th>Frequencia</th>\n    </tr>\n  </thead>\n  <tbody>\n    <tr>\n      <th>[51, 61)</th>\n      <td>5</td>\n    </tr>\n    <tr>\n      <th>[61, 71)</th>\n      <td>9</td>\n    </tr>\n    <tr>\n      <th>[71, 81)</th>\n      <td>19</td>\n    </tr>\n    <tr>\n      <th>[81, 91)</th>\n      <td>14</td>\n    </tr>\n    <tr>\n      <th>[91, 101)</th>\n      <td>8</td>\n    </tr>\n    <tr>\n      <th>[101, 111)</th>\n      <td>5</td>\n    </tr>\n    <tr>\n      <th>[111, 121)</th>\n      <td>6</td>\n    </tr>\n    <tr>\n      <th>[121, 131)</th>\n      <td>4</td>\n    </tr>\n    <tr>\n      <th>Total</th>\n      <td>70</td>\n    </tr>\n  </tbody>\n</table>\n</div>"
     },
     "execution_count": 4,
     "metadata": {},
     "output_type": "execute_result"
    }
   ],
   "source": [
    "\n",
    "nivel_ruido = \"\"\"53 55 73 75 80 81 93 95 118 120 58 60 76 76 81 83 95 97 121 121 60 62 76 78 83 84 98 98 124 126 65 66 68 68 68 69 70 70 72 73 78 78 78 79 80 80 80 80 80 80 84 84 85 85 86 86 86 88 90 93 100 106 106 107 109 109 112 115 116 116\"\"\".split(\" \")\n",
    "tb_nivel_ruido = TabelaFrequncia(np.array(nivel_ruido,dtype=np.int))\n",
    "print_info_tb_freq(tb_nivel_ruido)\n",
    "print(tb_nivel_ruido.colecao[tb_nivel_ruido.colecao < 60])\n",
    "tb_nivel_ruido.cria_tabelaFrequencia()"
   ],
   "metadata": {
    "collapsed": false,
    "pycharm": {
     "name": "#%%\n"
    }
   }
  },
  {
   "cell_type": "code",
   "execution_count": 5,
   "outputs": [
    {
     "name": "stdout",
     "output_type": "stream",
     "text": [
      "Numero de classes: 8\n",
      "Intervalo das classes: 9\n",
      "Amplitude: 72\n",
      "Excesso: 0\n",
      "Primeiro elemento: 40\n",
      "Ultimo elemento: 112\n"
     ]
    },
    {
     "data": {
      "text/plain": "            Frequencia\n[40, 49)             4\n[49, 58)             4\n[58, 67)            11\n[67, 76)            21\n[76, 85)            11\n[85, 94)             4\n[94, 103)            3\n[103, 112)           1\nTotal               59",
      "text/html": "<div>\n<style scoped>\n    .dataframe tbody tr th:only-of-type {\n        vertical-align: middle;\n    }\n\n    .dataframe tbody tr th {\n        vertical-align: top;\n    }\n\n    .dataframe thead th {\n        text-align: right;\n    }\n</style>\n<table border=\"1\" class=\"dataframe\">\n  <thead>\n    <tr style=\"text-align: right;\">\n      <th></th>\n      <th>Frequencia</th>\n    </tr>\n  </thead>\n  <tbody>\n    <tr>\n      <th>[40, 49)</th>\n      <td>4</td>\n    </tr>\n    <tr>\n      <th>[49, 58)</th>\n      <td>4</td>\n    </tr>\n    <tr>\n      <th>[58, 67)</th>\n      <td>11</td>\n    </tr>\n    <tr>\n      <th>[67, 76)</th>\n      <td>21</td>\n    </tr>\n    <tr>\n      <th>[76, 85)</th>\n      <td>11</td>\n    </tr>\n    <tr>\n      <th>[85, 94)</th>\n      <td>4</td>\n    </tr>\n    <tr>\n      <th>[94, 103)</th>\n      <td>3</td>\n    </tr>\n    <tr>\n      <th>[103, 112)</th>\n      <td>1</td>\n    </tr>\n    <tr>\n      <th>Total</th>\n      <td>59</td>\n    </tr>\n  </tbody>\n</table>\n</div>"
     },
     "execution_count": 5,
     "metadata": {},
     "output_type": "execute_result"
    }
   ],
   "source": [
    "pecas_com_defeitos = \"\"\"40 44 47 48 50 53 53 56 58 59 61 61 63 63 63 64 64 65 66 67 68 69 69 71 71 71 71 71 72 72 73 73 74 74 74 74 74 75 75 75 76 77 77 77 77 77 78 78 80 81 82 86 88 89 91 95 99 102 107 112\"\"\".split(\" \")\n",
    "tb_pecas_defeito = TabelaFrequncia(np.array(pecas_com_defeitos,dtype=np.int))\n",
    "print_info_tb_freq(tb_pecas_defeito)\n",
    "tb_pecas_defeito.cria_tabelaFrequencia()"
   ],
   "metadata": {
    "collapsed": false,
    "pycharm": {
     "name": "#%%\n"
    }
   }
  },
  {
   "cell_type": "code",
   "execution_count": 5,
   "outputs": [],
   "source": [
    "\n"
   ],
   "metadata": {
    "collapsed": false,
    "pycharm": {
     "name": "#%%\n"
    }
   }
  }
 ]
}