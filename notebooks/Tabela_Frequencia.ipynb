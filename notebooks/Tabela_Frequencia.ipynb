{
 "nbformat": 4,
 "nbformat_minor": 0,
 "metadata": {
  "colab": {
   "name": "Tabela_Frequencia.ipynb",
   "provenance": []
  },
  "kernelspec": {
   "name": "python3",
   "language": "python",
   "display_name": "Python 3"
  }
 },
 "cells": [
  {
   "cell_type": "code",
   "metadata": {
    "id": "sQsflxpwrPaL",
    "colab_type": "code",
    "colab": {}
   },
   "source": [
    "import numpy as np"
   ],
   "execution_count": 1,
   "outputs": []
  },
  {
   "cell_type": "code",
   "metadata": {
    "id": "Au8EhTtpqxPm",
    "colab_type": "code",
    "colab": {}
   },
   "source": [
    "from models.tableas import cria_tabelaFrequencia\n",
    "sequencia_numerica = \"\"\"39 43 45 50 50 53 54 55 58 59 61 61 63 63 63 64 66 68 68 68 68 68 70 71 72 72 73 73 73 74 75 75 75 75 75 76 77 77 78 78 78 79 80 81 81 82 82 82 83 84 84 84 86 88 90 91 95 96 99 106\"\"\".split(' ')"
   ],
   "execution_count": 51,
   "outputs": []
  },
  {
   "cell_type": "code",
   "metadata": {
    "id": "hAv1XRb4rEGp",
    "colab_type": "code",
    "colab": {
     "base_uri": "https://localhost:8080/",
     "height": 102
    },
    "outputId": "148093d3-a9f6-45dd-e27e-9430df236d25"
   },
   "source": [
    "\n",
    "cria_tabelaFrequencia(np.array(sequencia_numerica,dtype=np.int))\n"
   ],
   "execution_count": 52,
   "outputs": [
    {
     "data": {
      "text/plain": "            Frequencia\n[37, 46)             3\n[46, 55)             4\n[55, 64)             8\n[64, 73)            11\n[73, 82)            19\n[82, 91)            10\n[91, 100)            4\n[100, 109)           1\nTotal               60",
      "text/html": "<div>\n<style scoped>\n    .dataframe tbody tr th:only-of-type {\n        vertical-align: middle;\n    }\n\n    .dataframe tbody tr th {\n        vertical-align: top;\n    }\n\n    .dataframe thead th {\n        text-align: right;\n    }\n</style>\n<table border=\"1\" class=\"dataframe\">\n  <thead>\n    <tr style=\"text-align: right;\">\n      <th></th>\n      <th>Frequencia</th>\n    </tr>\n  </thead>\n  <tbody>\n    <tr>\n      <th>[37, 46)</th>\n      <td>3</td>\n    </tr>\n    <tr>\n      <th>[46, 55)</th>\n      <td>4</td>\n    </tr>\n    <tr>\n      <th>[55, 64)</th>\n      <td>8</td>\n    </tr>\n    <tr>\n      <th>[64, 73)</th>\n      <td>11</td>\n    </tr>\n    <tr>\n      <th>[73, 82)</th>\n      <td>19</td>\n    </tr>\n    <tr>\n      <th>[82, 91)</th>\n      <td>10</td>\n    </tr>\n    <tr>\n      <th>[91, 100)</th>\n      <td>4</td>\n    </tr>\n    <tr>\n      <th>[100, 109)</th>\n      <td>1</td>\n    </tr>\n    <tr>\n      <th>Total</th>\n      <td>60</td>\n    </tr>\n  </tbody>\n</table>\n</div>"
     },
     "execution_count": 52,
     "metadata": {},
     "output_type": "execute_result"
    }
   ]
  },
  {
   "cell_type": "code",
   "metadata": {
    "id": "Nm6_QVJcrocp",
    "colab_type": "code",
    "colab": {
     "base_uri": "https://localhost:8080/",
     "height": 34
    },
    "outputId": "248fe149-87b3-4f31-a5ea-b3fe62e4e4c7",
    "pycharm": {
     "name": "#%%\n"
    }
   },
   "source": [
    "\n"
   ],
   "execution_count": 6,
   "outputs": [
    {
     "data": {
      "text/plain": "8"
     },
     "execution_count": 6,
     "metadata": {},
     "output_type": "execute_result"
    }
   ]
  }
 ]
}