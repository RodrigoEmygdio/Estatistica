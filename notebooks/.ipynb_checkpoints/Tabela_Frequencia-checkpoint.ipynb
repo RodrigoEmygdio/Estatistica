{
 "cells": [
  {
   "cell_type": "code",
   "execution_count": 1,
   "metadata": {
    "colab": {},
    "colab_type": "code",
    "id": "Au8EhTtpqxPm"
   },
   "outputs": [],
   "source": [
    "import pandas as pd\n",
    "import numpy as np\n",
    "import matplotlib.pyplot as plt\n",
    "from models.tabelas import TabelaFrequncia\n",
    "def print_info_tb_freq(tb:TabelaFrequncia):\n",
    "    print(f\"Numero de classes: {tb.numero_classes}\")\n",
    "    print(f\"Intervalo das classes: {tb.intervalo_classes}\")\n",
    "    print(f\"Amplitude: {tb.At}\")\n",
    "    print(f\"Excesso: {tb.excesso}\")\n",
    "    print(f'Primeiro elemento: {tb.colecao.min()}')\n",
    "    print(f'Ultimo elemento: {tb.colecao.max()}')"
   ]
  },
  {
   "cell_type": "markdown",
   "metadata": {},
   "source": [
    "### Criando Tabela de  frequêcia atraves de um listagem de idades"
   ]
  },
  {
   "cell_type": "code",
   "execution_count": 20,
   "metadata": {
    "colab": {
     "base_uri": "https://localhost:8080/",
     "height": 102
    },
    "colab_type": "code",
    "id": "hAv1XRb4rEGp",
    "outputId": "148093d3-a9f6-45dd-e27e-9430df236d25"
   },
   "outputs": [
    {
     "name": "stdout",
     "output_type": "stream",
     "text": [
      "Numero de classes: 8\n",
      "Intervalo das classes: 9\n",
      "Amplitude: 67\n",
      "Excesso: 5\n",
      "Primeiro elemento: 39\n",
      "Ultimo elemento: 106\n"
     ]
    },
    {
     "data": {
      "text/html": [
       "<div>\n",
       "<style scoped>\n",
       "    .dataframe tbody tr th:only-of-type {\n",
       "        vertical-align: middle;\n",
       "    }\n",
       "\n",
       "    .dataframe tbody tr th {\n",
       "        vertical-align: top;\n",
       "    }\n",
       "\n",
       "    .dataframe thead th {\n",
       "        text-align: right;\n",
       "    }\n",
       "</style>\n",
       "<table border=\"1\" class=\"dataframe\">\n",
       "  <thead>\n",
       "    <tr style=\"text-align: right;\">\n",
       "      <th></th>\n",
       "      <th>Frequencia</th>\n",
       "      <th>Frequencia Relatativa</th>\n",
       "    </tr>\n",
       "  </thead>\n",
       "  <tbody>\n",
       "    <tr>\n",
       "      <th>(37, 46]</th>\n",
       "      <td>3</td>\n",
       "      <td>5.00</td>\n",
       "    </tr>\n",
       "    <tr>\n",
       "      <th>(46, 55]</th>\n",
       "      <td>4</td>\n",
       "      <td>6.67</td>\n",
       "    </tr>\n",
       "    <tr>\n",
       "      <th>(55, 64]</th>\n",
       "      <td>8</td>\n",
       "      <td>13.33</td>\n",
       "    </tr>\n",
       "    <tr>\n",
       "      <th>(64, 73]</th>\n",
       "      <td>11</td>\n",
       "      <td>18.33</td>\n",
       "    </tr>\n",
       "    <tr>\n",
       "      <th>(73, 82]</th>\n",
       "      <td>19</td>\n",
       "      <td>31.67</td>\n",
       "    </tr>\n",
       "    <tr>\n",
       "      <th>(82, 91]</th>\n",
       "      <td>10</td>\n",
       "      <td>16.67</td>\n",
       "    </tr>\n",
       "    <tr>\n",
       "      <th>(91, 100]</th>\n",
       "      <td>4</td>\n",
       "      <td>6.67</td>\n",
       "    </tr>\n",
       "    <tr>\n",
       "      <th>(100, 109]</th>\n",
       "      <td>1</td>\n",
       "      <td>1.67</td>\n",
       "    </tr>\n",
       "  </tbody>\n",
       "</table>\n",
       "</div>"
      ],
      "text/plain": [
       "            Frequencia  Frequencia Relatativa\n",
       "(37, 46]             3                   5.00\n",
       "(46, 55]             4                   6.67\n",
       "(55, 64]             8                  13.33\n",
       "(64, 73]            11                  18.33\n",
       "(73, 82]            19                  31.67\n",
       "(82, 91]            10                  16.67\n",
       "(91, 100]            4                   6.67\n",
       "(100, 109]           1                   1.67"
      ]
     },
     "execution_count": 20,
     "metadata": {},
     "output_type": "execute_result"
    },
    {
     "data": {
      "image/png": "[encoded data removed]",
      "text/plain": [
       "<Figure size 432x288 with 1 Axes>"
      ]
     },
     "metadata": {
      "needs_background": "light"
     },
     "output_type": "display_data"
    }
   ],
   "source": [
    "sequencia_numerica = \"\"\"39 43 45 50 50 53 54 55 58 59 61 61 63 63 63 64 66 68 68 68 68 68 70 71 72 72 73 73 73 74 75 75 75 75 75 76 77 77 78 78 78 79 80 81 81 82 82 82 83 84 84 84 86 88 90 91 95 96 99 106\"\"\".split(' ')\n",
    "tb_seq_num = TabelaFrequncia(np.array(sequencia_numerica,dtype=np.int))\n",
    "print_info_tb_freq(tb_seq_num)\n",
    "tb_seq_num.cria_frequencia_relativa()\n",
    "\n",
    "fig, axes = plt.subplots()\n",
    "x = np.sort(np.concatenate((tb_seq_num.dataFrame.index.values.left.values,tb_seq_num.dataFrame.index.values.right.values -1)))\n",
    "y = []\n",
    "for item in x:\n",
    "    for index in  tb_seq_num.dataFrame.index:\n",
    "        if(item >= index.left and item < index.right):\n",
    "                 y.append(tb_seq_num.dataFrame[tb_seq_num.frequenciaCampo][index])\n",
    "\n",
    "axes.plot(x,y,'-')\n",
    "\n",
    "tb_seq_num.dataFrame"
   ]
  },
  {
   "cell_type": "code",
   "execution_count": 14,
   "metadata": {},
   "outputs": [
    {
     "data": {
      "text/plain": [
       "count     60.000000\n",
       "mean      72.616667\n",
       "std       13.712659\n",
       "min       39.000000\n",
       "25%       63.750000\n",
       "50%       74.500000\n",
       "75%       81.250000\n",
       "max      106.000000\n",
       "dtype: float64"
      ]
     },
     "execution_count": 14,
     "metadata": {},
     "output_type": "execute_result"
    }
   ],
   "source": [
    "pd.Series(tb_seq_num.colecao).describe()"
   ]
  },
  {
   "cell_type": "code",
   "execution_count": 21,
   "metadata": {},
   "outputs": [
    {
     "data": {
      "text/plain": [
       "0    68\n",
       "1    75\n",
       "dtype: int32"
      ]
     },
     "execution_count": 21,
     "metadata": {},
     "output_type": "execute_result"
    }
   ],
   "source": [
    "pd.Series(tb_seq_num.colecao).mode()"
   ]
  },
  {
   "cell_type": "code",
   "execution_count": 11,
   "metadata": {
    "pycharm": {
     "name": "#%%\n"
    }
   },
   "outputs": [
    {
     "data": {
      "text/plain": [
       "(16,)"
      ]
     },
     "execution_count": 11,
     "metadata": {},
     "output_type": "execute_result"
    }
   ],
   "source": [
    "x.shape"
   ]
  },
  {
   "cell_type": "code",
   "execution_count": null,
   "metadata": {
    "pycharm": {
     "name": "#%%\n"
    }
   },
   "outputs": [],
   "source": [
    "### Criando Tabela de  frequêcia atraves de lista de gasto de energia"
   ]
  },
  {
   "cell_type": "code",
   "execution_count": null,
   "metadata": {},
   "outputs": [],
   "source": [
    "### Criando Tabela de  frequêcia atraves de lista de gasto de energia"
   ]
  },
  {
   "cell_type": "markdown",
   "metadata": {},
   "source": [
    "### Criando Tabela de  frequêcia atraves de lista de gasto de energia"
   ]
  },
  {
   "cell_type": "code",
   "execution_count": null,
   "metadata": {
    "colab": {
     "base_uri": "https://localhost:8080/",
     "height": 34
    },
    "colab_type": "code",
    "id": "Nm6_QVJcrocp",
    "outputId": "248fe149-87b3-4f31-a5ea-b3fe62e4e4c7",
    "pycharm": {
     "name": "#%%\n"
    }
   },
   "outputs": [],
   "source": [
    "consumo_energia = \"\"\"60 62 65 65 66 68 70 70 72 73 74 74 74 75 76 77 77 77 80 80 81 81 81 81 83 85 86 86 86 87 87 88 89 89 89 89 89 90 90 91 91 91 91 91 93 93 95 96 96 98 98 100 101 101 102 103 103 105 107 108 110 111 113\"\"\".split(\" \")\n",
    "tb_consumo_energia = TabelaFrequncia(np.array(consumo_energia,dtype=np.int))\n",
    "print_info_tb_freq(tb_consumo_energia)\n",
    "print(tb_consumo_energia.colecao[tb_consumo_energia.colecao <68])\n",
    "tb_consumo_energia.cria_tabelaFrequencia()\n",
    "tb_consumo_energia.cria_frequancia_acumulada()\n",
    "tb_consumo_energia.cria_frequencia_relativa()"
   ]
  },
  {
   "cell_type": "code",
   "execution_count": null,
   "metadata": {
    "pycharm": {
     "name": "#%%\n"
    }
   },
   "outputs": [],
   "source": [
    "\n",
    "nivel_ruido = \"\"\"53 55 73 75 80 81 93 95 118 120 58 60 76 76 81 83 95 97 121 121 60 62 76 78 83 84 98 98 124 126 65 66 68 68 68 69 70 70 72 73 78 78 78 79 80 80 80 80 80 80 84 84 85 85 86 86 86 88 90 93 100 106 106 107 109 109 112 115 116 116\"\"\".split(\" \")\n",
    "tb_nivel_ruido = TabelaFrequncia(np.array(nivel_ruido,dtype=np.int))\n",
    "print_info_tb_freq(tb_nivel_ruido)\n",
    "print(tb_nivel_ruido.colecao[tb_nivel_ruido.colecao < 60])\n",
    "tb_nivel_ruido.cria_tabelaFrequencia()"
   ]
  },
  {
   "cell_type": "code",
   "execution_count": null,
   "metadata": {
    "pycharm": {
     "name": "#%%\n"
    }
   },
   "outputs": [],
   "source": [
    "pecas_com_defeitos = \"\"\"40 44 47 48 50 53 53 56 58 59 61 61 63 63 63 64 64 65 66 67 68 69 69 71 71 71 71 71 72 72 73 73 74 74 74 74 74 75 75 75 76 77 77 77 77 77 78 78 80 81 82 86 88 89 91 95 99 102 107 112\"\"\".split(\" \")\n",
    "tb_pecas_defeito = TabelaFrequncia(np.array(pecas_com_defeitos,dtype=np.int))\n",
    "print_info_tb_freq(tb_pecas_defeito)\n",
    "tb_pecas_defeito.cria_tabelaFrequencia()"
   ]
  },
  {
   "cell_type": "code",
   "execution_count": null,
   "metadata": {
    "pycharm": {
     "name": "#%%\n"
    }
   },
   "outputs": [],
   "source": [
    "\n"
   ]
  }
 ],
 "metadata": {
  "colab": {
   "name": "Tabela_Frequencia.ipynb",
   "provenance": []
  },
  "kernelspec": {
   "display_name": "Python 3",
   "language": "python",
   "name": "python3"
  },
  "language_info": {
   "codemirror_mode": {
    "name": "ipython",
    "version": 3
   },
   "file_extension": ".py",
   "mimetype": "text/x-python",
   "name": "python",
   "nbconvert_exporter": "python",
   "pygments_lexer": "ipython3",
   "version": "3.8.3"
  }
 },
 "nbformat": 4,
 "nbformat_minor": 1
}
